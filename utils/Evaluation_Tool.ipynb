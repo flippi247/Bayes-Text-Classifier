{
 "cells": [
  {
   "cell_type": "markdown",
   "metadata": {
    "Collapsed": "false"
   },
   "source": [
    "# Evaluation Tool\n",
    "Prof. Dr. Georges,  Technische Hochschule Ingolstadt im Wintersemester 2020/21\n"
   ]
  },
  {
   "cell_type": "code",
   "execution_count": null,
   "metadata": {
    "Collapsed": "false"
   },
   "outputs": [],
   "source": [
    "import math, itertools\n",
    "import matplotlib.pyplot as plt\n",
    "from functools import reduce\n",
    "def print_matrix(C, class_labels=None): \n",
    "    if not class_labels:\n",
    "        class_labels = [\"\"]*len(C)\n",
    "    print(\"Confusion Matrix:\")\n",
    "    l   = max(reduce(lambda n,x : len(\"%s\"%x) if n<len(\"%s\"%x) else n, [0]+list(itertools.chain(*C))),\n",
    "              reduce(lambda n,x : len(\"%s\"%x) if n<len(\"%s\"%x) else n, [0]+list(itertools.chain(class_labels))))\n",
    "    print(\"\\t\",eval(\"\\\"%%%is\\\"%%\\\"%s\\\"\"%(l,\"\")), end=\" \")\n",
    "    for column in class_labels:\n",
    "        print(eval(\"\\\"%%%is\\\"%%\\\"%s\\\"\"%(l,column)), end=\" \")\n",
    "    print()\n",
    "    i = -0\n",
    "    for row in C:\n",
    "        print(\"\\t\",eval(\"\\t\\\"%%%is\\\"%%\\\"%s\\\"\"%(l,class_labels[i] if i>=0 else \"\" )), end=\" \")\n",
    "        i += 1\n",
    "        for column in row:\n",
    "            print(eval(\"\\\"%%%is\\\"%%%s\"%(l,column)), end=\" \")\n",
    "        print()"
   ]
  },
  {
   "cell_type": "code",
   "execution_count": null,
   "metadata": {
    "Collapsed": "false"
   },
   "outputs": [],
   "source": [
    "def ACC(C):\n",
    "    N, tmp_C_kk,tmp_C_ij = range(len(C)), 0.0, 0.0\n",
    "    for k in N:\n",
    "        tmp_C_kk += C[k][k]\n",
    "    for i in N:\n",
    "        for j in N:\n",
    "            tmp_C_ij += C[i][j]\n",
    "    return tmp_C_kk / tmp_C_ij"
   ]
  },
  {
   "cell_type": "code",
   "execution_count": null,
   "metadata": {
    "Collapsed": "false"
   },
   "outputs": [],
   "source": [
    "def Precision(C):\n",
    "    raise NotImplementedError(\"You should implement this. Hint: Lecture\")"
   ]
  },
  {
   "cell_type": "code",
   "execution_count": null,
   "metadata": {
    "Collapsed": "false"
   },
   "outputs": [],
   "source": [
    "def Recall(C):\n",
    "    raise NotImplementedError(\"You should implement this. Hint: Lecture\")"
   ]
  },
  {
   "cell_type": "code",
   "execution_count": null,
   "metadata": {
    "Collapsed": "false"
   },
   "outputs": [],
   "source": [
    "def Fb(C, beta=1):\n",
    "    raise NotImplementedError(\"You should implement this. Hint: Lecture\")"
   ]
  },
  {
   "cell_type": "code",
   "execution_count": null,
   "metadata": {
    "Collapsed": "false"
   },
   "outputs": [],
   "source": [
    "def Fallout(C):\n",
    "    raise NotImplementedError(\"You should implement this. Hint: Lecture\")"
   ]
  },
  {
   "cell_type": "code",
   "execution_count": null,
   "metadata": {
    "Collapsed": "false"
   },
   "outputs": [],
   "source": [
    "def ROC(list_of_recalls, list_of_fallouts):\n",
    "    assert len(list_of_recalls) == len(list_of_fallouts), \"%i!=%i\"%(len(list_of_recalls),len(list_of_fallouts))\n",
    "    raise NotImplementedError(\"You should implement this. Hint: Lecture and matplotlib\")"
   ]
  },
  {
   "cell_type": "code",
   "execution_count": null,
   "metadata": {
    "Collapsed": "false"
   },
   "outputs": [],
   "source": [
    "def MCC(C):\n",
    "    \"\"\"\n",
    "    Multi-Class Matthews Correlation Coefficient accordingly to the following publication:\n",
    "        Comparing two K-category assignments by a K-category correlation coefficient.\n",
    "        J. Gorodkin, Computational Biology and Chemistry, 28:367-374, 2004.\n",
    "    \"\"\"\n",
    "    N, cov_XY, cov_XX, cov_YY  = range(len(C)), 0.0, 0.0, 0.0\n",
    "    for k in N:\n",
    "        for l in N:\n",
    "            for m in N:\n",
    "                cov_XY += C[k][k] * C[m][l] - C[l][k] * C[k][m]\n",
    "    for k in N:\n",
    "        tmp_C_lk, tmp_C_gf = 0.0, 0.0\n",
    "        for l in N:\n",
    "            tmp_C_lk += C[l][k]\n",
    "        for f in N:\n",
    "            for g in N:\n",
    "                if f != k:\n",
    "                    tmp_C_gf += C[g][f]\n",
    "        cov_XX += tmp_C_lk * tmp_C_gf\n",
    "    cov_XX  = math.sqrt(cov_XX)\n",
    "    for k in N:\n",
    "        tmp_C_kl, tmp_C_fg = 0.0, 0.0\n",
    "        for l in N:\n",
    "            tmp_C_kl += C[k][l]\n",
    "        for f in N:\n",
    "            for g in N:\n",
    "                if f != k:\n",
    "                    tmp_C_fg += C[f][g]\n",
    "        cov_YY += tmp_C_kl * tmp_C_fg\n",
    "    cov_YY  = math.sqrt(cov_YY)\n",
    "    if (cov_XX * cov_YY) > 0.0:\n",
    "        return cov_XY/(cov_XX * cov_YY)\n",
    "    elif (cov_XX * cov_YY)==0.0:\n",
    "        return float('nan') #  0.0  \n",
    "    else:\n",
    "        return float('nan') # -2.0"
   ]
  },
  {
   "cell_type": "markdown",
   "metadata": {
    "Collapsed": "false"
   },
   "source": [
    "# Beispiel"
   ]
  },
  {
   "cell_type": "code",
   "execution_count": null,
   "metadata": {
    "Collapsed": "false"
   },
   "outputs": [],
   "source": [
    "confusion_matrix = [[15,0,0,0],[0,15,0,0],[0,0,15,0],[0,0,0,15]]\n",
    "class_labels     = [\"a\", \"b\", \"c\", \"d\"]\n",
    "print_matrix(confusion_matrix, class_labels)\n",
    "\n",
    "print()\n",
    "print(\"MCC:\\t\", MCC(confusion_matrix))\n",
    "print(\"ACC:\\t\", ACC(confusion_matrix))"
   ]
  },
  {
   "cell_type": "code",
   "execution_count": null,
   "metadata": {
    "Collapsed": "false"
   },
   "outputs": [],
   "source": []
  }
 ],
 "metadata": {
  "kernelspec": {
   "display_name": "Python 3",
   "language": "python",
   "name": "python3"
  },
  "language_info": {
   "codemirror_mode": {
    "name": "ipython",
    "version": 3
   },
   "file_extension": ".py",
   "mimetype": "text/x-python",
   "name": "python",
   "nbconvert_exporter": "python",
   "pygments_lexer": "ipython3",
   "version": "3.6.9"
  }
 },
 "nbformat": 4,
 "nbformat_minor": 4
}
